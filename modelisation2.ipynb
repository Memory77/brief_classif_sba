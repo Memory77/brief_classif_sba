{
 "cells": [
  {
   "cell_type": "code",
   "execution_count": 63,
   "metadata": {},
   "outputs": [
    {
     "name": "stdout",
     "output_type": "stream",
     "text": [
      "Nombre de caractéristiques après le prétraitement : 121\n",
      "0.9459490875276066\n",
      "              precision    recall  f1-score   support\n",
      "\n",
      "      CHGOFF       0.87      0.86      0.87      6977\n",
      "       P I F       0.96      0.97      0.97     27435\n",
      "\n",
      "    accuracy                           0.95     34412\n",
      "   macro avg       0.92      0.91      0.92     34412\n",
      "weighted avg       0.95      0.95      0.95     34412\n",
      "\n"
     ]
    }
   ],
   "source": [
    "import pandas as pd\n",
    "from sklearn.model_selection import train_test_split\n",
    "from sklearn.preprocessing import OneHotEncoder, StandardScaler, LabelEncoder\n",
    "from sklearn.compose import ColumnTransformer\n",
    "from sklearn.pipeline import Pipeline\n",
    "from sklearn.metrics import classification_report, accuracy_score\n",
    "from sklearn.impute import SimpleImputer, KNNImputer\n",
    "from xgboost import XGBClassifier\n",
    "\n",
    "# Charger le jeu de données\n",
    "df = pd.read_csv('dataset_test4.csv')\n",
    "\n",
    "# Sélectionner les variables indépendantes et la variable cible\n",
    "X = df.drop('MIS_Status', axis=1)\n",
    "y = df['MIS_Status']\n",
    "\n",
    "# encoder la variable cible\n",
    "le = LabelEncoder()\n",
    "y_encoded = le.fit_transform(y)\n",
    "\n",
    "\n",
    "cat_vars = X.select_dtypes(include=['object']).columns.tolist() + ['UrbanRural'] + ['FranchiseBinary']\n",
    "num_vars = X.select_dtypes(include=['int64', 'float64']).columns.tolist()\n",
    "num_vars.remove('UrbanRural') \n",
    "num_vars.remove('FranchiseBinary') \n",
    "\n",
    "# Créer les transformateurs pour les pipelines\n",
    "numeric_transformer = Pipeline(steps=[\n",
    "    ('imputer', SimpleImputer(strategy='median')),\n",
    "    ('scaler', StandardScaler())\n",
    "])\n",
    "\n",
    "categorical_transformer = Pipeline(steps=[\n",
    "    ('imputer', SimpleImputer(strategy='constant', fill_value='missing')),\n",
    "    ('encoder', OneHotEncoder(handle_unknown='ignore', drop='if_binary')),\n",
    "])\n",
    "\n",
    "# Combiner les transformateurs dans un ColumnTransformer\n",
    "preprocessor = ColumnTransformer(\n",
    "    transformers=[\n",
    "        ('num', numeric_transformer, num_vars),\n",
    "        ('cat', categorical_transformer, cat_vars)\n",
    "    ])\n",
    "\n",
    "# Créer la pipeline de traitement et de modélisation\n",
    "xgboost_pipeline = Pipeline(steps=[\n",
    "    ('preprocessor', preprocessor),\n",
    "    ('classifier', XGBClassifier(random_state=42, n_jobs=-1, max_depth=15, min_child_weight=16))\n",
    "])\n",
    "\n",
    "# Séparer les données en ensembles d'entraînement et de test, stratifier sur y\n",
    "X_train, X_test, y_train, y_test = train_test_split(\n",
    "    X, y_encoded, shuffle=True, test_size=0.05, random_state=42, stratify=y_encoded)\n",
    "\n",
    "# Ajuster la pipeline sur les données d'entraînement\n",
    "xgboost_pipeline.fit(X_train, y_train)\n",
    "\n",
    "#obtenir le nombre de caractéristiques transformées\n",
    "feature_names = xgboost_pipeline.named_steps['preprocessor'].get_feature_names_out()\n",
    "print(f\"Nombre de caractéristiques après le prétraitement : {len(feature_names)}\")\n",
    "\n",
    "# Prédire les étiquettes sur l'ensemble de test\n",
    "y_pred = xgboost_pipeline.predict(X_test)\n",
    "\n",
    "# Évaluer le modèle\n",
    "accuracy = accuracy_score(y_test, y_pred)\n",
    "report = classification_report(y_test, y_pred, target_names=le.classes_)\n",
    "\n",
    "print(accuracy)\n",
    "print(report)\n"
   ]
  },
  {
   "cell_type": "code",
   "execution_count": 64,
   "metadata": {},
   "outputs": [
    {
     "name": "stdout",
     "output_type": "stream",
     "text": [
      "Nombre de caractéristiques après le prétraitement : 126\n",
      "0.9350866359112209               precision    recall  f1-score   support\n",
      "\n",
      "      CHGOFF       0.89      0.77      0.83     27906\n",
      "       P I F       0.94      0.98      0.96    109739\n",
      "\n",
      "    accuracy                           0.94    137645\n",
      "   macro avg       0.92      0.87      0.89    137645\n",
      "weighted avg       0.93      0.94      0.93    137645\n",
      "\n"
     ]
    }
   ],
   "source": [
    "import pandas as pd\n",
    "from sklearn.model_selection import train_test_split\n",
    "from sklearn.preprocessing import OneHotEncoder, StandardScaler, LabelEncoder\n",
    "from sklearn.compose import ColumnTransformer\n",
    "from sklearn.pipeline import Pipeline\n",
    "from sklearn.svm import SVC\n",
    "from sklearn.metrics import classification_report, accuracy_score\n",
    "from sklearn.impute import SimpleImputer\n",
    "from sklearn.ensemble import RandomForestClassifier\n",
    "\n",
    "# Charger le jeu de données\n",
    "\n",
    "df = pd.read_csv('dataset_test1.csv')\n",
    "\n",
    "# Sélectionner les variables indépendantes et la variable cible\n",
    "X = df.drop('MIS_Status', axis=1)\n",
    "y = df['MIS_Status']\n",
    "\n",
    "# Encoder la variable cible\n",
    "le = LabelEncoder()\n",
    "y_encoded = le.fit_transform(y)\n",
    "\n",
    "\n",
    "cat_vars = X.select_dtypes(include=['object']).columns.tolist() + ['NewExist'] + ['UrbanRural'] + ['FranchiseBinary'] \n",
    "num_vars = X.select_dtypes(include=['int64', 'float64']).columns.tolist()\n",
    "num_vars.remove('NewExist')  \n",
    "num_vars.remove('UrbanRural') \n",
    "num_vars.remove('FranchiseBinary') \n",
    "\n",
    "# Créer les transformateurs pour les pipelines\n",
    "numeric_transformer = Pipeline(steps=[\n",
    "    ('imputer', SimpleImputer(strategy='median')),\n",
    "    ('scaler', StandardScaler())\n",
    "])\n",
    "\n",
    "categorical_transformer = Pipeline(steps=[\n",
    "    ('imputer', SimpleImputer(strategy='constant', fill_value='missing')),\n",
    "    ('encoder', OneHotEncoder(handle_unknown='ignore', drop='if_binary'))\n",
    "])\n",
    "\n",
    "# Combiner les transformateurs dans un ColumnTransformer\n",
    "preprocessor = ColumnTransformer(\n",
    "    transformers=[\n",
    "        ('num', numeric_transformer, num_vars),\n",
    "        ('cat', categorical_transformer, cat_vars)\n",
    "    ])\n",
    "\n",
    "# Créer la pipeline de traitement et de modélisation\n",
    "rf_pipeline = Pipeline(steps=[\n",
    "    ('preprocessor', preprocessor),\n",
    "    ('classifier', RandomForestClassifier(random_state=42, n_jobs=-1))\n",
    "])\n",
    "\n",
    "# Séparer les données en ensembles d'entraînement et de test, stratifier sur y\n",
    "X_train, X_test, y_train, y_test = train_test_split(\n",
    "    X, y_encoded, test_size=0.2, random_state=42, stratify=y_encoded)\n",
    "\n",
    "\n",
    "rf_pipeline.fit(X_train, y_train)\n",
    "\n",
    "#obtenir le nombre de caractéristiques transformées\n",
    "feature_names = rf_pipeline.named_steps['preprocessor'].get_feature_names_out()\n",
    "print(f\"Nombre de caractéristiques après le prétraitement : {len(feature_names)}\")\n",
    "\n",
    "# Prédire les étiquettes sur l'ensemble de test\n",
    "y_pred = rf_pipeline.predict(X_test)\n",
    "\n",
    "# Évaluer le modèle\n",
    "accuracy = accuracy_score(y_test, y_pred)\n",
    "report = classification_report(y_test, y_pred, target_names=le.classes_)\n",
    "\n",
    "print(accuracy, report)\n"
   ]
  },
  {
   "cell_type": "code",
   "execution_count": 24,
   "metadata": {},
   "outputs": [
    {
     "name": "stdout",
     "output_type": "stream",
     "text": [
      "Nombre de caractéristiques après le prétraitement : 126\n",
      "0.9496106009531559\n",
      "              precision    recall  f1-score   support\n",
      "\n",
      "           0       0.97      0.97      0.97     27435\n",
      "           1       0.88      0.87      0.87      6977\n",
      "\n",
      "    accuracy                           0.95     34412\n",
      "   macro avg       0.92      0.92      0.92     34412\n",
      "weighted avg       0.95      0.95      0.95     34412\n",
      "\n"
     ]
    }
   ],
   "source": [
    "import pandas as pd\n",
    "from sklearn.model_selection import train_test_split\n",
    "from sklearn.preprocessing import OneHotEncoder, StandardScaler, LabelEncoder\n",
    "from sklearn.compose import ColumnTransformer\n",
    "from sklearn.pipeline import Pipeline\n",
    "from sklearn.metrics import classification_report, accuracy_score\n",
    "from sklearn.impute import SimpleImputer, KNNImputer\n",
    "from xgboost import XGBClassifier\n",
    "\n",
    "# Charger le jeu de données\n",
    "df = pd.read_csv('dataset_test1.csv')\n",
    "\n",
    "# Sélectionner les variables indépendantes et la variable cible\n",
    "X = df.drop('MIS_Status', axis=1)\n",
    "y = df['MIS_Status']\n",
    "\n",
    "# encoder la variable cible\n",
    "# le = LabelEncoder()\n",
    "# y_encoded = le.fit_transform(y)\n",
    "\n",
    "\n",
    "# cat_vars = X.select_dtypes(include=['object']).columns.tolist() + ['NewExist'] + ['UrbanRural'] + ['FranchiseBinary']\n",
    "# num_vars = X.select_dtypes(include=['int64', 'float64']).columns.tolist()\n",
    "\n",
    "\n",
    "cat_vars = X.select_dtypes(include=['object']).columns.tolist() + ['NewExist'] + ['UrbanRural'] + ['FranchiseBinary'] \n",
    "num_vars = X.select_dtypes(include=['int64', 'float64']).columns.tolist()\n",
    "num_vars.remove('NewExist')  \n",
    "num_vars.remove('UrbanRural') \n",
    "num_vars.remove('FranchiseBinary') \n",
    "# Créer les transformateurs pour les pipelines\n",
    "numeric_transformer = Pipeline(steps=[\n",
    "    ('imputer', SimpleImputer(strategy='median')),\n",
    "    ('scaler', StandardScaler())\n",
    "])\n",
    "\n",
    "categorical_transformer = Pipeline(steps=[\n",
    "    ('imputer', SimpleImputer(strategy='constant', fill_value='missing')),\n",
    "    ('encoder', OneHotEncoder(handle_unknown='ignore', drop='if_binary')),\n",
    "])\n",
    "\n",
    "# Combiner les transformateurs dans un ColumnTransformer\n",
    "preprocessor = ColumnTransformer(\n",
    "    transformers=[\n",
    "        ('num', numeric_transformer, num_vars),\n",
    "        ('cat', categorical_transformer, cat_vars)\n",
    "    ])\n",
    "\n",
    "# Créer la pipeline de traitement et de modélisation\n",
    "xgboost_pipeline = Pipeline(steps=[\n",
    "    ('preprocessor', preprocessor),\n",
    "    ('classifier', XGBClassifier(n_estimators = 100, random_state=42, n_jobs=-1,max_depth=15, min_child_weight=16))\n",
    "])\n",
    "\n",
    "# Séparer les données en ensembles d'entraînement et de test, stratifier sur y\n",
    "X_train, X_test, y_train, y_test = train_test_split(\n",
    "    X, y, shuffle=True, test_size=0.05, random_state=42, stratify=y)\n",
    "\n",
    "# Ajuster la pipeline sur les données d'entraînement\n",
    "xgboost_pipeline.fit(X_train, y_train)\n",
    "\n",
    "#obtenir le nombre de caractéristiques transformées\n",
    "feature_names = xgboost_pipeline.named_steps['preprocessor'].get_feature_names_out()\n",
    "print(f\"Nombre de caractéristiques après le prétraitement : {len(feature_names)}\")\n",
    "\n",
    "# Prédire les étiquettes sur l'ensemble de test\n",
    "y_pred = xgboost_pipeline.predict(X_test)\n",
    "\n",
    "# Évaluer le modèle\n",
    "accuracy = accuracy_score(y_test, y_pred)\n",
    "report = classification_report(y_test, y_pred)\n",
    "\n",
    "print(accuracy)\n",
    "print(report)\n"
   ]
  },
  {
   "cell_type": "code",
   "execution_count": 25,
   "metadata": {},
   "outputs": [
    {
     "name": "stdout",
     "output_type": "stream",
     "text": [
      "               Feature  Importance\n",
      "2            num__Term    0.115915\n",
      "122  cat__UrbanRural_0    0.044928\n",
      "65   cat__BankState_CA    0.033192\n",
      "108  cat__BankState_VA    0.032362\n",
      "88   cat__BankState_MT    0.027576\n",
      "..                 ...         ...\n",
      "62   cat__BankState_AN    0.000000\n",
      "60   cat__BankState_AK    0.000000\n",
      "109  cat__BankState_VI    0.000000\n",
      "72   cat__BankState_GU    0.000000\n",
      "101  cat__BankState_PR    0.000000\n",
      "\n",
      "[126 rows x 2 columns]\n"
     ]
    }
   ],
   "source": [
    "# Obtenir les importances des caractéristiques du modèle XGBoost\n",
    "feature_importances = xgboost_pipeline.named_steps['classifier'].feature_importances_\n",
    "\n",
    "# Obtenir les noms des caractéristiques transformées\n",
    "feature_names = xgboost_pipeline.named_steps['preprocessor'].get_feature_names_out()\n",
    "\n",
    "# Créer un DataFrame pour visualiser les importances\n",
    "importance_df = pd.DataFrame({\n",
    "    'Feature': feature_names,\n",
    "    'Importance': feature_importances\n",
    "}).sort_values(by='Importance', ascending=False)\n",
    "\n",
    "# Afficher les importances des caractéristiques\n",
    "print(importance_df)"
   ]
  },
  {
   "cell_type": "code",
   "execution_count": 26,
   "metadata": {},
   "outputs": [
    {
     "name": "stderr",
     "output_type": "stream",
     "text": [
      "/home/utilisateur/Bureau/brief_classif_sba/ml/lib/python3.10/site-packages/sklearn/preprocessing/_encoders.py:228: UserWarning: Found unknown categories in columns [1] during transform. These unknown categories will be encoded as all zeros\n",
      "  warnings.warn(\n",
      "/home/utilisateur/Bureau/brief_classif_sba/ml/lib/python3.10/site-packages/sklearn/preprocessing/_encoders.py:228: UserWarning: Found unknown categories in columns [1] during transform. These unknown categories will be encoded as all zeros\n",
      "  warnings.warn(\n"
     ]
    }
   ],
   "source": [
    "from sklearn.model_selection import cross_val_predict\n",
    "\n",
    "y_train_pred_xgb = cross_val_predict(xgboost_pipeline, X_train, y_train)"
   ]
  },
  {
   "cell_type": "code",
   "execution_count": null,
   "metadata": {},
   "outputs": [
    {
     "data": {
      "text/plain": [
       "array([[506203,  15053],\n",
       "       [ 17928, 114625]])"
      ]
     },
     "metadata": {},
     "output_type": "display_data"
    },
    {
     "data": {
      "text/html": [
       "<div>\n",
       "<style scoped>\n",
       "    .dataframe tbody tr th:only-of-type {\n",
       "        vertical-align: middle;\n",
       "    }\n",
       "\n",
       "    .dataframe tbody tr th {\n",
       "        vertical-align: top;\n",
       "    }\n",
       "\n",
       "    .dataframe thead th {\n",
       "        text-align: right;\n",
       "    }\n",
       "</style>\n",
       "<table border=\"1\" class=\"dataframe\">\n",
       "  <thead>\n",
       "    <tr style=\"text-align: right;\">\n",
       "      <th></th>\n",
       "      <th>Predicted PIF (0)</th>\n",
       "      <th>Predicted CHGOFF (1)</th>\n",
       "    </tr>\n",
       "  </thead>\n",
       "  <tbody>\n",
       "    <tr>\n",
       "      <th>Actual PIF (0)</th>\n",
       "      <td>506203</td>\n",
       "      <td>15053</td>\n",
       "    </tr>\n",
       "    <tr>\n",
       "      <th>Actual CHGOFF (1)</th>\n",
       "      <td>17928</td>\n",
       "      <td>114625</td>\n",
       "    </tr>\n",
       "  </tbody>\n",
       "</table>\n",
       "</div>"
      ],
      "text/plain": [
       "                   Predicted PIF (0)  Predicted CHGOFF (1)\n",
       "Actual PIF (0)                506203                 15053\n",
       "Actual CHGOFF (1)              17928                114625"
      ]
     },
     "metadata": {},
     "output_type": "display_data"
    },
    {
     "data": {
      "text/plain": [
       "<sklearn.metrics._plot.confusion_matrix.ConfusionMatrixDisplay at 0x7f05140d72e0>"
      ]
     },
     "execution_count": 14,
     "metadata": {},
     "output_type": "execute_result"
    },
    {
     "data": {
      "image/png": "[encoded data removed]",
      "text/plain": [
       "<Figure size 640x480 with 2 Axes>"
      ]
     },
     "metadata": {},
     "output_type": "display_data"
    }
   ],
   "source": [
    "from sklearn.metrics import ConfusionMatrixDisplay, confusion_matrix\n",
    "\n",
    "# On crée la matrice de confusion en passant les classes et les prédictions du modèle, puis on l'affiche\n",
    "cm = confusion_matrix(y_train, y_train_pred_xgb)\n",
    "display(cm)\n",
    "\n",
    "# Affichage avec un DataFrame\n",
    "conf_matrix = pd.DataFrame(cm, index=[\"Actual PIF (0)\", \"Actual CHGOFF (1)\"], columns=[\"Predicted PIF (0)\", \"Predicted CHGOFF (1)\"])\n",
    "display(conf_matrix)\n",
    "\n",
    "# Affichage avec un plot\n",
    "graph_cm = ConfusionMatrixDisplay(confusion_matrix=cm, display_labels=[\"PIF 0\", \"CHGOFF 1\"])\n",
    "graph_cm.plot(cmap=\"Blues\")"
   ]
  },
  {
   "cell_type": "code",
   "execution_count": 35,
   "metadata": {},
   "outputs": [
    {
     "name": "stdout",
     "output_type": "stream",
     "text": [
      "              precision    recall  f1-score   support\n",
      "\n",
      "           0       0.97      0.97      0.97    521256\n",
      "           1       0.88      0.86      0.87    132553\n",
      "\n",
      "    accuracy                           0.95    653809\n",
      "   macro avg       0.92      0.92      0.92    653809\n",
      "weighted avg       0.95      0.95      0.95    653809\n",
      "\n"
     ]
    }
   ],
   "source": [
    "from sklearn.metrics import classification_report\n",
    "\n",
    "print(classification_report(y_train, y_train_pred_xgb))"
   ]
  },
  {
   "cell_type": "code",
   "execution_count": 41,
   "metadata": {},
   "outputs": [
    {
     "name": "stderr",
     "output_type": "stream",
     "text": [
      "/home/utilisateur/Bureau/brief_classif_sba/ml/lib/python3.10/site-packages/sklearn/preprocessing/_encoders.py:228: UserWarning: Found unknown categories in columns [1] during transform. These unknown categories will be encoded as all zeros\n",
      "  warnings.warn(\n",
      "/home/utilisateur/Bureau/brief_classif_sba/ml/lib/python3.10/site-packages/sklearn/preprocessing/_encoders.py:228: UserWarning: Found unknown categories in columns [1] during transform. These unknown categories will be encoded as all zeros\n",
      "  warnings.warn(\n"
     ]
    },
    {
     "data": {
      "text/plain": [
       "array([[0.70977926, 0.2902207 ],\n",
       "       [0.01020157, 0.9897984 ],\n",
       "       [0.99247783, 0.00752216],\n",
       "       ...,\n",
       "       [0.9936825 , 0.00631749],\n",
       "       [0.996391  , 0.00360901],\n",
       "       [0.9940979 , 0.00590214]], dtype=float32)"
      ]
     },
     "metadata": {},
     "output_type": "display_data"
    }
   ],
   "source": [
    "from sklearn.metrics import precision_recall_curve\n",
    "from sklearn.model_selection import cross_val_predict\n",
    "# Au lieu d'obtenir les prédictions, on récupere les scores de probabilités pour chaque observations\n",
    "y_probas_xgb = cross_val_predict(xgboost_pipeline, X_train, y_train, method=\"predict_proba\")\n",
    "display(y_probas_xgb)\n",
    "\n",
    "# On récupere uniquement les probabilités pour la classe positive\n",
    "y_scores_xgb = y_probas_xgb[:, 1]\n",
    "\n",
    "# A partir des probabilités on calcule les combinaisons de scores pour recall et precision en fonction du seuil\n",
    "precisions_tr, recalls_tr, thresholds_tr = precision_recall_curve(y_train, y_scores_xgb)"
   ]
  },
  {
   "cell_type": "code",
   "execution_count": 42,
   "metadata": {},
   "outputs": [],
   "source": [
    "from sklearn.metrics import roc_curve\n",
    "\n",
    "# La fonction roc_curve retourne le FPR, TPR et les seuils \n",
    "fpr_xgb, tpr_xgb, tresholds_xgb = roc_curve(y_train, y_scores_xgb)"
   ]
  },
  {
   "cell_type": "code",
   "execution_count": 43,
   "metadata": {},
   "outputs": [],
   "source": [
    "import matplotlib.pyplot as plt\n",
    "# Fonction pour représenter la courbe ROC\n",
    "def plot_roc_curve(fpr, tpr, label=None):\n",
    "\n",
    "    plt.plot(fpr, tpr, linewidth=2, label=label)\n",
    "    plt.plot([0, 1], [0, 1], \"k--\")\n",
    "    plt.title(\"Courbe ROC\")\n",
    "    plt.xlabel(\"Taux de Faux Positif\")\n",
    "    plt.ylabel(\"Taux de Vrai Positif\")\n",
    "    plt.grid()"
   ]
  },
  {
   "cell_type": "code",
   "execution_count": 46,
   "metadata": {},
   "outputs": [
    {
     "data": {
      "image/png": "[encoded data removed]",
      "text/plain": [
       "<Figure size 640x480 with 1 Axes>"
      ]
     },
     "metadata": {},
     "output_type": "display_data"
    }
   ],
   "source": [
    "plot_roc_curve(fpr_xgb, tpr_xgb)\n",
    "plt.show()"
   ]
  },
  {
   "cell_type": "code",
   "execution_count": 47,
   "metadata": {},
   "outputs": [
    {
     "data": {
      "text/plain": [
       "0.9795523055432922"
      ]
     },
     "metadata": {},
     "output_type": "display_data"
    }
   ],
   "source": [
    "from sklearn.metrics import roc_auc_score\n",
    "\n",
    "display(roc_auc_score(y_train, y_scores_xgb))"
   ]
  }
 ],
 "metadata": {
  "kernelspec": {
   "display_name": "ml",
   "language": "python",
   "name": "python3"
  },
  "language_info": {
   "codemirror_mode": {
    "name": "ipython",
    "version": 3
   },
   "file_extension": ".py",
   "mimetype": "text/x-python",
   "name": "python",
   "nbconvert_exporter": "python",
   "pygments_lexer": "ipython3",
   "version": "3.10.12"
  }
 },
 "nbformat": 4,
 "nbformat_minor": 2
}
