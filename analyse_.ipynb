{
 "cells": [
  {
   "cell_type": "markdown",
   "metadata": {},
   "source": [
    "La Small Business Administration (SBA) des États-Unis soutient les petites entreprises en leur facilitant l'accès au crédit. Fondée en 1953, la SBA contribue à la création d'emplois en promouvant la croissance des petites entreprises. Elle propose un programme de garantie de prêts pour encourager les banques à prêter aux petites entreprises, en assumant une partie du risque. En cas de défaut de paiement, la SBA couvre le montant garanti. La SBA utilise des données historiques pour éclairer les décisions de crédit, malgré le débat sur l'efficacité du marché du crédit avec ou sans intervention gouvernementale.<br><br>\n",
    "\n",
    "ChgOffDate : La date à laquelle un prêt est déclaré en défaut ne serait pas connue au moment de l'approbation et donc indiquerait un résultat futur.<br><br>\n",
    "MIS_Status : Indique si le prêt a été radié ou payé en totalité, ce qui est une information post-décision.<br><br>\n",
    "ChgOffPrinGr : Montant radié, ce qui révèle le résultat du prêt après l'approbation.<br><br>\n",
    "Les features importantes pour la prédiction pourraient inclure :<br><br>\n",
    "\n",
    "NAICS : Le code d'industrie peut donner des indications sur la viabilité sectorielle.<br><br>\n",
    "Term : La durée du prêt peut influencer la capacité de remboursement.<br><br>\n",
    "NoEmp : Le nombre d'employés peut refléter la taille et la santé de l'entreprise.<br><br>\n",
    "NewExist : Indique si l'entreprise est nouvelle ou existante, ce qui peut affecter le risque.<br><br>\n",
    "\"GrAppv\" : Il s'agit du montant brut approuvé du prêt. C'est le montant total approuvé pour le prêt avant toute réduction ou ajustement. Cette variable peut être importante car elle indique le montant initial du prêt accordé à l'entreprise.<br><br>\n",
    "\n",
    "\"SBA_Appv\" : Il s'agit du montant approuvé par la Small Business Administration (SBA). La SBA peut approuver une partie du montant total du prêt, et \"SBA_Appv\" représente cette portion. C'est également une mesure importante, car elle indique la part du prêt qui est garantie par la SBA.<br><br>\n",
    "CreateJob et RetainedJob : La création ou le maintien d'emplois peut être un signe de croissance ou de stabilité.<br><br>\n",
    "Revolving Line of Credit\" (RevLineCr) peut être importante pour prédire la probabilité qu'une entreprise rembourse un prêt. Elle indique si l'entreprise a accès à une source de crédit flexible, ce qui peut influencer sa capacité à gérer ses flux de trésorerie et à répondre à ses obligations de prêt. Les entreprises avec une ligne de crédit renouvelable peuvent être considérées comme ayant une meilleure liquidité, ce qui est un facteur positif dans la gestion financière et peut donc affecter positivement la probabilité de remboursement du prêt.\n",
    "lowdoc : Cette variable peut être importante car elle peut influencer la facilité et la rapidité du processus de demande de prêt.\n",
    "Les features moins importantes pourraient être :<br><br>\n",
    "\n",
    "Name, City, State, Zip : Informations démographiques qui ne sont généralement pas directement liées à la capacité de remboursement d'un prêt.<br><br>\n",
    "Bank et BankState : Sauf si l'analyse se concentre sur le comportement de prêt spécifique à certaines banques ou régions.<br><br>\n",
    "Il est essentiel de noter que même les features jugées moins importantes pourraient fournir des insights utiles lorsqu'elles sont combinées avec d'autres données ou analysées dans un contexte spécifique. Une analyse approfondie des données et des techniques de sélection de features sont nécessaires pour déterminer l'importance réelle de chaque feature.<br><br><br><br>\n",
    "ChgOffDate et ChgOffPrinGr ne sont pas des variables cibles pour la modélisation prédictive de défaut de prêt car elles sont des indicateurs de résultat après le fait.\n",
    "\n",
    "ChgOffDate est la date à laquelle le prêt a été officiellement radié comme une perte par la banque, ce qui se produit après qu'il est devenu évident que le prêt ne sera pas remboursé.\n",
    "ChgOffPrinGr est le montant du prêt qui a été radié, ce qui est également un résultat du processus de défaut.\n",
    "Ces deux variables ne seraient connues qu'après qu'un prêt a été déclaré en défaut, et donc elles ne peuvent pas être utilisées pour prédire si un nouveau prêt serait remboursé ou non. En revanche, MIS_Status est la variable qui reflète le résultat final du prêt et est utilisée pour entraîner le modèle à prédire la probabilité d'un résultat de défaut avant qu'un prêt soit accordé.<br>\n",
    "\"Disbursement Date\" la date à laquelle les fonds du prêt ont été décaissés,pourrait ne pas être directement importante pour la prédiction si le prêt sera remboursé, car c'est simplement une date transactionnelle. Cependant, elle peut être utile pour calculer la durée depuis le décaissement, qui peut avoir une influence sur le risque de défaut.\n",
    "<br>ApprovalDate : date a laquelle le pret a été approuvé<br>\n",
    "\"BalanceGross\" pourrait être considérée comme une fuite de données (data leakage) si elle est utilisée telle quelle, car elle peut refléter des paiements ou des activités qui se sont produits après l'octroi du prêt. Elle ne devrait pas être utilisée pour prédire si un prêt doit être accordé, car elle représente l'état du prêt après la décision d'approbation.<br><br>\n",
    "Supposons une petite entreprise nommée \"Tech Innovations\" qui opère dans le secteur des technologies de l'information et qui cherche un prêt pour financer son expansion. L'entreprise a un bon historique de gestion financière, un nombre croissant d'employés et de ventes, et elle opère dans une région économiquement stable.\n",
    "\n",
    "La SBA, en examinant la demande de prêt, utiliserait des données historiques pour évaluer le risque de défaut de paiement. Elle tiendrait compte du code NAICS de l'entreprise, du nombre d'employés, de la durée souhaitée pour le prêt, et d'autres facteurs pertinents. Sur la base de cette évaluation, si le prêt est jugé comme ayant un risque acceptable, la SBA pourrait garantir une partie du prêt, rendant ainsi les banques plus disposées à financer l'entreprise.\n",
    "\n",
    "\n",
    "\n",
    "\n",
    "\n"
   ]
  },
  {
   "cell_type": "markdown",
   "metadata": {},
   "source": [
    "<h1>Concernant la target</h1>\n",
    "\n",
    "P I F (Paid In Full) : Indique que le prêt a été remboursé intégralement. Cela est généralement considéré comme un résultat positif pour la banque ou l'institution financière, car cela signifie que le prêt n'a pas fait défaut et que toutes les sommes dues ont été perçues.\n",
    "<br><br>\n",
    "CHGOFF : Cela pourrait signifier \"Charge-Off\", un terme utilisé quand une banque ou un autre créancier décide qu'une dette est improbable à être recouvrée et la retire de ses livres comptables comme un actif. Un \"Charge-Off\" est généralement considéré comme un résultat négatif, car cela signifie que le prêteur a subi une perte sur le prêt.\n",
    "<br><br>"
   ]
  },
  {
   "cell_type": "code",
   "execution_count": 1,
   "metadata": {},
   "outputs": [
    {
     "name": "stderr",
     "output_type": "stream",
     "text": [
      "/home/utilisateur/Bureau/brief_classif_sba/venv/lib/python3.10/site-packages/tqdm/auto.py:21: TqdmWarning: IProgress not found. Please update jupyter and ipywidgets. See https://ipywidgets.readthedocs.io/en/stable/user_install.html\n",
      "  from .autonotebook import tqdm as notebook_tqdm\n",
      "Done! Use 'show' commands to display/save.   |██████████| [100%]   00:01 -> (00:00 left)\n"
     ]
    },
    {
     "name": "stdout",
     "output_type": "stream",
     "text": [
      "Report rapport.html was generated! NOTEBOOK/COLAB USERS: the web browser MAY not pop up, regardless, the report IS saved in your notebook/colab files.\n"
     ]
    }
   ],
   "source": [
    "import sweetviz as sv\n",
    "import pandas as pd\n",
    "\n",
    "data = pd.read_csv(\"dataset_test1.csv\")\n",
    "\n",
    "report = sv.analyze(data)\n",
    "report.show_html(\"rapport.html\")"
   ]
  }
 ],
 "metadata": {
  "kernelspec": {
   "display_name": "ml",
   "language": "python",
   "name": "python3"
  },
  "language_info": {
   "codemirror_mode": {
    "name": "ipython",
    "version": 3
   },
   "file_extension": ".py",
   "mimetype": "text/x-python",
   "name": "python",
   "nbconvert_exporter": "python",
   "pygments_lexer": "ipython3",
   "version": "3.10.12"
  }
 },
 "nbformat": 4,
 "nbformat_minor": 2
}
